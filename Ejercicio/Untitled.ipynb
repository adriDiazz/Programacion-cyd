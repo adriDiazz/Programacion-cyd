{
 "cells": [
  {
   "cell_type": "markdown",
   "id": "bf3ff65e-4a98-4554-8486-811b97df6acb",
   "metadata": {},
   "source": [
    "Dowloading Clase "
   ]
  },
  {
   "cell_type": "code",
   "execution_count": 25,
   "id": "84b71711-fd3a-4594-ae34-7e2da4c73937",
   "metadata": {},
   "outputs": [],
   "source": [
    "import requests,threading"
   ]
  },
  {
   "cell_type": "code",
   "execution_count": 56,
   "id": "6d61e6cc-fda7-432d-9829-4fb97de5dd31",
   "metadata": {},
   "outputs": [],
   "source": [
    "def response(url):\n",
    "    print(requests.get(url))\n",
    "    "
   ]
  },
  {
   "cell_type": "code",
   "execution_count": 61,
   "id": "2c2a5fa1-a33b-456f-9555-9515de80cb51",
   "metadata": {},
   "outputs": [
    {
     "name": "stdout",
     "output_type": "stream",
     "text": [
      "<Response [403]>\n",
      "<Response [403]>\n",
      "<Response [403]>\n",
      "<Response [403]>\n",
      "<Response [403]>\n",
      "<Response [403]>\n",
      "<Response [403]><Response [403]>\n",
      "\n",
      "<Response [403]>\n",
      "<Response [403]>\n"
     ]
    }
   ],
   "source": [
    "\n",
    "    array=[]\n",
    "    for i in range(10):\n",
    "        url =f\" https://storage.googleapis.com/christian_vladimir_sucuzhanay_bucket/pictures_videos/pic00{i}.jpeg\"\n",
    "        array.append(url) \n",
    "    for links in array:\n",
    "        threading.Thread(target=response,args=(links,)).start()"
   ]
  },
  {
   "cell_type": "code",
   "execution_count": null,
   "id": "c6614fcc-09f3-4ae3-88d3-724c5380fce3",
   "metadata": {},
   "outputs": [],
   "source": []
  },
  {
   "cell_type": "code",
   "execution_count": null,
   "id": "c1bdecfc-9952-43ce-b711-f6357736dd77",
   "metadata": {},
   "outputs": [],
   "source": []
  }
 ],
 "metadata": {
  "kernelspec": {
   "display_name": "Python 3",
   "language": "python",
   "name": "python3"
  },
  "language_info": {
   "codemirror_mode": {
    "name": "ipython",
    "version": 3
   },
   "file_extension": ".py",
   "mimetype": "text/x-python",
   "name": "python",
   "nbconvert_exporter": "python",
   "pygments_lexer": "ipython3",
   "version": "3.8.8"
  }
 },
 "nbformat": 4,
 "nbformat_minor": 5
}
