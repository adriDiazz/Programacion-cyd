{
 "cells": [
  {
   "cell_type": "markdown",
   "id": "06cf64b4-3967-43d5-8de2-1e02e2806bcc",
   "metadata": {},
   "source": [
    "Secod Class Adrian diaz manzanzares 2016494"
   ]
  },
  {
   "cell_type": "markdown",
   "id": "beba418a-cabd-4983-b76a-10b093c38b93",
   "metadata": {},
   "source": [
    "1.Cuantos cores / Cpus tiene su equipo"
   ]
  },
  {
   "cell_type": "code",
   "execution_count": null,
   "id": "729b9a5e-519a-4f9f-8db8-5ceed1cc6aa4",
   "metadata": {},
   "outputs": [],
   "source": [
    "import os"
   ]
  },
  {
   "cell_type": "code",
   "execution_count": null,
   "id": "59b814a8-dc25-4b29-a7d3-df0f01f0c5e7",
   "metadata": {},
   "outputs": [],
   "source": [
    "os.cpu_count()"
   ]
  },
  {
   "cell_type": "markdown",
   "id": "76efa511-75c8-45f2-bddb-b1053c7a9063",
   "metadata": {},
   "source": [
    "2.Cuanotos cores / cpus fisicos tiene su equipo"
   ]
  },
  {
   "cell_type": "code",
   "execution_count": null,
   "id": "658eadbe-a35b-4ca6-8cb3-d7b207056e21",
   "metadata": {},
   "outputs": [],
   "source": [
    "print(\"Mi equipo tiene \" + str(os.cpu_count()/2) + \" fisicos\")"
   ]
  },
  {
   "cell_type": "markdown",
   "id": "419d2120-cde1-4cde-8ec3-7d5d1f851f6e",
   "metadata": {},
   "source": [
    "3.Cuantos cores logicos tiene su equipo"
   ]
  },
  {
   "cell_type": "code",
   "execution_count": null,
   "id": "f9a91061-51e9-4152-ad6c-9efc1eccab39",
   "metadata": {},
   "outputs": [],
   "source": [
    "print(\"Mi equipo tiene \" + str(os.cpu_count()) + \" nucleos logicos\")"
   ]
  },
  {
   "cell_type": "markdown",
   "id": "4a9dabe7-888a-42ac-941e-f3042bae61b4",
   "metadata": {
    "tags": []
   },
   "source": [
    "4.Cree una funcion con el objeto de mantener su cpu activa al menos 10s (que no haga nada)"
   ]
  },
  {
   "cell_type": "code",
   "execution_count": null,
   "id": "c83f768a-8d10-4b38-9f62-fd36f8c99d84",
   "metadata": {},
   "outputs": [],
   "source": [
    "os.getpid()"
   ]
  },
  {
   "cell_type": "code",
   "execution_count": null,
   "id": "19c5f75d-3c04-4d5e-8a5f-dce252dc7d40",
   "metadata": {},
   "outputs": [],
   "source": [
    "def ten():\n",
    "    for i in range(1000):\n",
    "        pass\n",
    "        "
   ]
  },
  {
   "cell_type": "markdown",
   "id": "1c0a9d2b-1c8e-4e5d-bcb1-15ee1b81e297",
   "metadata": {},
   "source": [
    "5.Que version de python"
   ]
  },
  {
   "cell_type": "code",
   "execution_count": null,
   "id": "944c60ae-5374-4d1b-9f3d-95d75e6f5833",
   "metadata": {},
   "outputs": [],
   "source": [
    "import platform as lyn"
   ]
  },
  {
   "cell_type": "code",
   "execution_count": null,
   "id": "2e385c8c-f3e0-4a67-94c6-a9b22ce9c602",
   "metadata": {},
   "outputs": [],
   "source": [
    "lyn.python_version()"
   ]
  },
  {
   "cell_type": "markdown",
   "id": "f61bd433-1c55-4a83-ab65-75d4f05b5027",
   "metadata": {},
   "source": [
    "6.El bus de su maquina es de 32 o 64?"
   ]
  },
  {
   "cell_type": "code",
   "execution_count": null,
   "id": "387a88e2-b30d-4bd0-82b2-da04a91c70cd",
   "metadata": {},
   "outputs": [],
   "source": [
    "lyn.architecture()"
   ]
  },
  {
   "cell_type": "markdown",
   "id": "2a5b77d7-cb08-4474-af15-0b9ca15a953b",
   "metadata": {},
   "source": [
    "7.Cree una funcion que imprima del 1 al 10"
   ]
  },
  {
   "cell_type": "code",
   "execution_count": null,
   "id": "2d642892-dfb0-4ecc-baac-456d95ecba98",
   "metadata": {},
   "outputs": [],
   "source": [
    "   def to_ten():\n",
    "    for i in range(1,11):\n",
    "        print(i,end=\"\")"
   ]
  },
  {
   "cell_type": "markdown",
   "id": "67d8ab02-96a2-4659-8656-bc3ee4e2ea3e",
   "metadata": {},
   "source": [
    "8.Ejecute concurrentemente 20 veces la funcion antes creada"
   ]
  },
  {
   "cell_type": "code",
   "execution_count": null,
   "id": "44e78057-2bbf-4272-8902-fcfe1fad7677",
   "metadata": {},
   "outputs": [],
   "source": [
    "import threading as th"
   ]
  },
  {
   "cell_type": "code",
   "execution_count": 34,
   "id": "a986e64c-5965-4902-84ab-3ca003bc23de",
   "metadata": {},
   "outputs": [
    {
     "name": "stdout",
     "output_type": "stream",
     "text": [
      "123456789"
     ]
    }
   ],
   "source": [
    "#th.Thread(target=to_ten).start()"
   ]
  },
  {
   "cell_type": "code",
   "execution_count": 35,
   "id": "0f9283d8-e8d5-49bb-8f8d-590e5317aee3",
   "metadata": {},
   "outputs": [
    {
     "name": "stdout",
     "output_type": "stream",
     "text": [
      "123456789123456789123456789123456789123456781234596789123456781923412356456789789123456789123456789123412345678956789123456789123456789123456712345678989123456789123141567892345678923456789"
     ]
    }
   ],
   "source": [
    "for i in range(21):\n",
    "    th.Thread(target=to_ten).start()"
   ]
  },
  {
   "cell_type": "markdown",
   "id": "08b5d3b9-691f-402a-9516-b0ae35e64781",
   "metadata": {},
   "source": [
    "9.Cuantos hilos activos hay ?"
   ]
  },
  {
   "cell_type": "code",
   "execution_count": null,
   "id": "a35def6e-ba28-4e4b-8072-6f8ad28d495b",
   "metadata": {},
   "outputs": [],
   "source": [
    "th.active_count()"
   ]
  }
 ],
 "metadata": {
  "kernelspec": {
   "display_name": "Python 3",
   "language": "python",
   "name": "python3"
  },
  "language_info": {
   "codemirror_mode": {
    "name": "ipython",
    "version": 3
   },
   "file_extension": ".py",
   "mimetype": "text/x-python",
   "name": "python",
   "nbconvert_exporter": "python",
   "pygments_lexer": "ipython3",
   "version": "3.8.8"
  }
 },
 "nbformat": 4,
 "nbformat_minor": 5
}
