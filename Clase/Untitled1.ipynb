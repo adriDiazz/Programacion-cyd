{
 "cells": [
  {
   "cell_type": "markdown",
   "id": "fca03961-e381-41ee-b1f0-1fcfabc99254",
   "metadata": {},
   "source": [
    "##Datos coches"
   ]
  },
  {
   "cell_type": "code",
   "execution_count": null,
   "id": "afa90ed0-5421-49b6-acb4-7cb1589a6f0c",
   "metadata": {},
   "outputs": [],
   "source": [
    "import requests, pandas, json"
   ]
  },
  {
   "cell_type": "code",
   "execution_count": null,
   "id": "43e97d63-9be6-4333-b6d0-e3629394989f",
   "metadata": {},
   "outputs": [],
   "source": [
    "url_ = \"https://sedeaplicaciones.minetur.gob.es/ServiciosRESTCarburantes/PreciosCarburantes/EstacionesTerrestres/\""
   ]
  },
  {
   "cell_type": "code",
   "execution_count": 33,
   "id": "1b055ebe-4699-468a-b9b1-2dec07e12f02",
   "metadata": {},
   "outputs": [],
   "source": [
    "rq = requests.api.get(url_)"
   ]
  },
  {
   "cell_type": "code",
   "execution_count": 34,
   "id": "b59bdedd-e3e4-4b31-a4f2-f11397497646",
   "metadata": {},
   "outputs": [
    {
     "data": {
      "text/plain": [
       "{'Cache-Control': 'private', 'Content-Length': '9276096', 'Content-Type': 'application/json; charset=utf-8', 'Server': 'Microsoft-IIS/7.5', 'X-AspNet-Version': '4.0.30319', 'X-Powered-By': 'ASP.NET', 'Access-Control-Allow-Origin': '*', 'Access-Control-Allow-Headers': 'Origin, X-Requested-With, Content-Type, Accept, Authorization', 'Access-Control-Allow-Methods': 'POST,GET,OPTIONS', 'Date': 'Thu, 21 Oct 2021 16:36:57 GMT'}"
      ]
     },
     "execution_count": 34,
     "metadata": {},
     "output_type": "execute_result"
    }
   ],
   "source": [
    "rq.headers"
   ]
  },
  {
   "cell_type": "code",
   "execution_count": 49,
   "id": "61033bc6-058a-46f7-bb29-96f1f56dcd5d",
   "metadata": {},
   "outputs": [],
   "source": [
    "with open('gasolina.json', 'wb') as file:\n",
    "    file.write(rq.content)"
   ]
  },
  {
   "cell_type": "code",
   "execution_count": 46,
   "id": "dbf66f24-e361-4526-ae9d-58cb8aa05d6c",
   "metadata": {},
   "outputs": [
    {
     "data": {
      "text/html": [
       "<div>\n",
       "<style scoped>\n",
       "    .dataframe tbody tr th:only-of-type {\n",
       "        vertical-align: middle;\n",
       "    }\n",
       "\n",
       "    .dataframe tbody tr th {\n",
       "        vertical-align: top;\n",
       "    }\n",
       "\n",
       "    .dataframe thead th {\n",
       "        text-align: right;\n",
       "    }\n",
       "</style>\n",
       "<table border=\"1\" class=\"dataframe\">\n",
       "  <thead>\n",
       "    <tr style=\"text-align: right;\">\n",
       "      <th></th>\n",
       "      <th>Fecha</th>\n",
       "      <th>ListaEESSPrecio</th>\n",
       "      <th>Nota</th>\n",
       "      <th>ResultadoConsulta</th>\n",
       "    </tr>\n",
       "  </thead>\n",
       "  <tbody>\n",
       "    <tr>\n",
       "      <th>0</th>\n",
       "      <td>21/10/2021 18:36:57</td>\n",
       "      <td>{'C.P.': '02250', 'Dirección': 'AVENIDA CASTIL...</td>\n",
       "      <td>Archivo de todos los productos en todas las es...</td>\n",
       "      <td>OK</td>\n",
       "    </tr>\n",
       "    <tr>\n",
       "      <th>1</th>\n",
       "      <td>21/10/2021 18:36:57</td>\n",
       "      <td>{'C.P.': '02152', 'Dirección': 'CR CM-332, 46,...</td>\n",
       "      <td>Archivo de todos los productos en todas las es...</td>\n",
       "      <td>OK</td>\n",
       "    </tr>\n",
       "    <tr>\n",
       "      <th>2</th>\n",
       "      <td>21/10/2021 18:36:57</td>\n",
       "      <td>{'C.P.': '02001', 'Dirección': 'CALLE FEDERICO...</td>\n",
       "      <td>Archivo de todos los productos en todas las es...</td>\n",
       "      <td>OK</td>\n",
       "    </tr>\n",
       "    <tr>\n",
       "      <th>3</th>\n",
       "      <td>21/10/2021 18:36:57</td>\n",
       "      <td>{'C.P.': '02001', 'Dirección': 'CALLE PRINCIPE...</td>\n",
       "      <td>Archivo de todos los productos en todas las es...</td>\n",
       "      <td>OK</td>\n",
       "    </tr>\n",
       "    <tr>\n",
       "      <th>4</th>\n",
       "      <td>21/10/2021 18:36:57</td>\n",
       "      <td>{'C.P.': '02001', 'Dirección': 'AVENIDA 1º DE ...</td>\n",
       "      <td>Archivo de todos los productos en todas las es...</td>\n",
       "      <td>OK</td>\n",
       "    </tr>\n",
       "    <tr>\n",
       "      <th>...</th>\n",
       "      <td>...</td>\n",
       "      <td>...</td>\n",
       "      <td>...</td>\n",
       "      <td>...</td>\n",
       "    </tr>\n",
       "    <tr>\n",
       "      <th>11414</th>\n",
       "      <td>21/10/2021 18:36:57</td>\n",
       "      <td>{'C.P.': '50197', 'Dirección': 'AVENIDA DIAGON...</td>\n",
       "      <td>Archivo de todos los productos en todas las es...</td>\n",
       "      <td>OK</td>\n",
       "    </tr>\n",
       "    <tr>\n",
       "      <th>11415</th>\n",
       "      <td>21/10/2021 18:36:57</td>\n",
       "      <td>{'C.P.': '50197', 'Dirección': 'POLIGONO CALLE...</td>\n",
       "      <td>Archivo de todos los productos en todas las es...</td>\n",
       "      <td>OK</td>\n",
       "    </tr>\n",
       "    <tr>\n",
       "      <th>11416</th>\n",
       "      <td>21/10/2021 18:36:57</td>\n",
       "      <td>{'C.P.': '50800', 'Dirección': 'CARRETERA N-33...</td>\n",
       "      <td>Archivo de todos los productos en todas las es...</td>\n",
       "      <td>OK</td>\n",
       "    </tr>\n",
       "    <tr>\n",
       "      <th>11417</th>\n",
       "      <td>21/10/2021 18:36:57</td>\n",
       "      <td>{'C.P.': '50800', 'Dirección': 'CALLE AUSTRIA,...</td>\n",
       "      <td>Archivo de todos los productos en todas las es...</td>\n",
       "      <td>OK</td>\n",
       "    </tr>\n",
       "    <tr>\n",
       "      <th>11418</th>\n",
       "      <td>21/10/2021 18:36:57</td>\n",
       "      <td>{'C.P.': '50810', 'Dirección': 'CALLE COOPERAT...</td>\n",
       "      <td>Archivo de todos los productos en todas las es...</td>\n",
       "      <td>OK</td>\n",
       "    </tr>\n",
       "  </tbody>\n",
       "</table>\n",
       "<p>11419 rows × 4 columns</p>\n",
       "</div>"
      ],
      "text/plain": [
       "                     Fecha                                    ListaEESSPrecio  \\\n",
       "0      21/10/2021 18:36:57  {'C.P.': '02250', 'Dirección': 'AVENIDA CASTIL...   \n",
       "1      21/10/2021 18:36:57  {'C.P.': '02152', 'Dirección': 'CR CM-332, 46,...   \n",
       "2      21/10/2021 18:36:57  {'C.P.': '02001', 'Dirección': 'CALLE FEDERICO...   \n",
       "3      21/10/2021 18:36:57  {'C.P.': '02001', 'Dirección': 'CALLE PRINCIPE...   \n",
       "4      21/10/2021 18:36:57  {'C.P.': '02001', 'Dirección': 'AVENIDA 1º DE ...   \n",
       "...                    ...                                                ...   \n",
       "11414  21/10/2021 18:36:57  {'C.P.': '50197', 'Dirección': 'AVENIDA DIAGON...   \n",
       "11415  21/10/2021 18:36:57  {'C.P.': '50197', 'Dirección': 'POLIGONO CALLE...   \n",
       "11416  21/10/2021 18:36:57  {'C.P.': '50800', 'Dirección': 'CARRETERA N-33...   \n",
       "11417  21/10/2021 18:36:57  {'C.P.': '50800', 'Dirección': 'CALLE AUSTRIA,...   \n",
       "11418  21/10/2021 18:36:57  {'C.P.': '50810', 'Dirección': 'CALLE COOPERAT...   \n",
       "\n",
       "                                                    Nota ResultadoConsulta  \n",
       "0      Archivo de todos los productos en todas las es...                OK  \n",
       "1      Archivo de todos los productos en todas las es...                OK  \n",
       "2      Archivo de todos los productos en todas las es...                OK  \n",
       "3      Archivo de todos los productos en todas las es...                OK  \n",
       "4      Archivo de todos los productos en todas las es...                OK  \n",
       "...                                                  ...               ...  \n",
       "11414  Archivo de todos los productos en todas las es...                OK  \n",
       "11415  Archivo de todos los productos en todas las es...                OK  \n",
       "11416  Archivo de todos los productos en todas las es...                OK  \n",
       "11417  Archivo de todos los productos en todas las es...                OK  \n",
       "11418  Archivo de todos los productos en todas las es...                OK  \n",
       "\n",
       "[11419 rows x 4 columns]"
      ]
     },
     "execution_count": 46,
     "metadata": {},
     "output_type": "execute_result"
    }
   ],
   "source": [
    "pandas.read_json('gasolina.json', encoding = 'Latin 1')"
   ]
  },
  {
   "cell_type": "code",
   "execution_count": 47,
   "id": "0421d82f-531d-4b85-a9e3-fc6a1e3ad099",
   "metadata": {},
   "outputs": [],
   "source": [
    "json = json.load(open('gasolina.json'))"
   ]
  },
  {
   "cell_type": "code",
   "execution_count": null,
   "id": "55f6826f-2de2-4697-9f9b-6510f142790c",
   "metadata": {},
   "outputs": [],
   "source": []
  }
 ],
 "metadata": {
  "kernelspec": {
   "display_name": "Python 3",
   "language": "python",
   "name": "python3"
  },
  "language_info": {
   "codemirror_mode": {
    "name": "ipython",
    "version": 3
   },
   "file_extension": ".py",
   "mimetype": "text/x-python",
   "name": "python",
   "nbconvert_exporter": "python",
   "pygments_lexer": "ipython3",
   "version": "3.8.8"
  }
 },
 "nbformat": 4,
 "nbformat_minor": 5
}
