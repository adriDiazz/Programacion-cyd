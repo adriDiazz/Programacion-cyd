{
 "cells": [
  {
   "cell_type": "code",
   "execution_count": 1,
   "id": "2b09bbb2-0942-4f01-9dcc-0b66e14d1dcd",
   "metadata": {},
   "outputs": [],
   "source": [
    "import multiprocessing as mp, math"
   ]
  },
  {
   "cell_type": "code",
   "execution_count": null,
   "id": "08fa9d93-8558-4ea1-bc13-b9f83f313714",
   "metadata": {},
   "outputs": [],
   "source": [
    "def Par(a, b):\n",
    "    ncores = os.cpu_count()\n",
    "    size_filas=math.ceil(nfilas_a/ncores)\n",
    "    size_columnas=math.ceil(ncols_b/ncores)\n",
    "    cores=[]\n",
    "    for core in range(ncores):\n",
    "        i_mc=min(core*size_filas,nfilas_a)\n",
    "        f_mc=min((core+1)*size_filas,nfilas_a)\n",
    "        cores.append(mp.Process(target=PAR_CORE, args=(a,b,i_mc,f_mc)))\n",
    "        for core in cores:\n",
    "            core.start()\n",
    "            "
   ]
  },
  {
   "cell_type": "code",
   "execution_count": null,
   "id": "807e83da-b582-408d-b646-f78a2ec4bb80",
   "metadata": {},
   "outputs": [],
   "source": [
    "print(\"hola\")"
   ]
  },
  {
   "cell_type": "code",
   "execution_count": 2,
   "id": "2077f939-2ab8-45b2-a056-4dd59a34cdf3",
   "metadata": {},
   "outputs": [],
   "source": [
    "def secuenciañ():\n",
    "    pass"
   ]
  },
  {
   "cell_type": "code",
   "execution_count": 10,
   "id": "007a03ab-a590-49c0-be6c-658c4fae913e",
   "metadata": {},
   "outputs": [],
   "source": [
    "def paralela(a,b):\n",
    "    n_cores = mp.cpu_count()\n",
    "    n_fil_a = 0\n",
    "    n_fil_b = 0\n",
    "    n_col_a=0\n",
    "    n_col_b = 0\n",
    "    size = math.ceil(num_fil_a/n_cores)\n",
    "    size_c = math.ceil(num_col_b/n_cores)\n",
    "    mc = mp.RawArray[n_fil_a*n_col_b]\n",
    "    i_mc = len[a]/size\n",
    "    f_mc = len(a[0])\n",
    "    \n",
    "    pass"
   ]
  },
  {
   "cell_type": "code",
   "execution_count": 9,
   "id": "fb38cae4-2de3-4b29-ae79-913c31422f66",
   "metadata": {},
   "outputs": [],
   "source": [
    "def core(a,b,mc,i_mc,f_mc):\n",
    "    for i in range(i_mc, f_mc):\n",
    "        for j in range(len(b[0])):\n",
    "            for k in range(b[0]):\n",
    "                mc[i*len(b[0])+j] += a[i][k]*b[k][j]\n",
    "            \n"
   ]
  },
  {
   "cell_type": "code",
   "execution_count": 7,
   "id": "8ce963d5-eaf2-433f-af27-c5c942ea08f3",
   "metadata": {},
   "outputs": [
    {
     "data": {
      "text/plain": [
       "[[0, 0, 0, 0, 0],\n",
       " [0, 0, 0, 0, 0],\n",
       " [0, 0, 0, 0, 0],\n",
       " [0, 0, 0, 0, 0],\n",
       " [0, 0, 0, 0, 0]]"
      ]
     },
     "execution_count": 7,
     "metadata": {},
     "output_type": "execute_result"
    }
   ],
   "source": [
    "[[0]*5 for i in range(5)]"
   ]
  },
  {
   "cell_type": "code",
   "execution_count": null,
   "id": "044023a2-dfa9-40e9-8976-b2758de0db45",
   "metadata": {},
   "outputs": [],
   "source": []
  }
 ],
 "metadata": {
  "interpreter": {
   "hash": "bbf408b826681cf36650e65bc6bbdc0ddd6fa71aca0e8e7479f579d555180bef"
  },
  "kernelspec": {
   "display_name": "Python 3",
   "language": "python",
   "name": "python3"
  },
  "language_info": {
   "codemirror_mode": {
    "name": "ipython",
    "version": 3
   },
   "file_extension": ".py",
   "mimetype": "text/x-python",
   "name": "python",
   "nbconvert_exporter": "python",
   "pygments_lexer": "ipython3",
   "version": "3.8.8"
  }
 },
 "nbformat": 4,
 "nbformat_minor": 5
}
