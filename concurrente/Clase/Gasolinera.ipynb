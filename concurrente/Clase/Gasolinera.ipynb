{
 "cells": [
  {
   "cell_type": "markdown",
   "id": "c3c5dbb9-8db8-45b5-ab6e-15cf63c18b9d",
   "metadata": {},
   "source": [
    "Cargar datos"
   ]
  },
  {
   "cell_type": "markdown",
   "id": "8945fbe7-37ed-48d0-aa0a-214937464c8c",
   "metadata": {},
   "source": [
    "Loading excel files "
   ]
  },
  {
   "cell_type": "markdown",
   "id": "8a3f9554-7290-4195-a43d-2d6eebd442b3",
   "metadata": {},
   "source": [
    "Loading csv files"
   ]
  },
  {
   "cell_type": "code",
   "execution_count": null,
   "id": "0f8521e0-c29a-4d08-9e7d-485fe20bb883",
   "metadata": {},
   "outputs": [],
   "source": [
    "import requests, pandas"
   ]
  },
  {
   "cell_type": "code",
   "execution_count": null,
   "id": "6754e99f-0565-4416-8d2b-fcbee1ce2f7b",
   "metadata": {},
   "outputs": [],
   "source": [
    "url_ =\"https://datos.madrid.es/egob/catalogo/300107-0-agenda-actividades-eventos.csv\" "
   ]
  },
  {
   "cell_type": "code",
   "execution_count": null,
   "id": "71a24493-940b-458d-bf96-af902a6d15bb",
   "metadata": {},
   "outputs": [],
   "source": [
    "gasolinas = pandas.read_excel('preciosEESS_es.xls')"
   ]
  },
  {
   "cell_type": "code",
   "execution_count": null,
   "id": "f356f4b1-a127-4220-abee-203098b6e93a",
   "metadata": {},
   "outputs": [],
   "source": [
    "gasolinas"
   ]
  },
  {
   "cell_type": "code",
   "execution_count": null,
   "id": "27fd2b08-673a-45d0-81cb-785dc29e173a",
   "metadata": {},
   "outputs": [],
   "source": [
    "res = requests.api.get(url_)"
   ]
  },
  {
   "cell_type": "code",
   "execution_count": null,
   "id": "c96f3834-8a35-41c1-8dba-44ba9cf8def1",
   "metadata": {},
   "outputs": [],
   "source": [
    "with open(\"eventos.csv\", 'wb') as r_data:\n",
    "    r_data.write(res.content)\n",
    "    "
   ]
  },
  {
   "cell_type": "code",
   "execution_count": null,
   "id": "17706c63-22cb-4b46-badb-221f5e8c0efa",
   "metadata": {},
   "outputs": [],
   "source": [
    "pandas.read_csv(\"eventos.csv\", sep = \";\", encoding='iso-8859-1')"
   ]
  },
  {
   "cell_type": "code",
   "execution_count": null,
   "id": "ef3aa588-3628-418b-9997-ece56a860e38",
   "metadata": {},
   "outputs": [],
   "source": []
  }
 ],
 "metadata": {
  "kernelspec": {
   "display_name": "Python 3",
   "language": "python",
   "name": "python3"
  },
  "language_info": {
   "codemirror_mode": {
    "name": "ipython",
    "version": 3
   },
   "file_extension": ".py",
   "mimetype": "text/x-python",
   "name": "python",
   "nbconvert_exporter": "python",
   "pygments_lexer": "ipython3",
   "version": "3.8.8"
  }
 },
 "nbformat": 4,
 "nbformat_minor": 5
}
